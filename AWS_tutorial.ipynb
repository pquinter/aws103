{
 "cells": [
  {
   "cell_type": "markdown",
   "metadata": {},
   "source": [
    "## Setting Up Jupyter Notebooks In The Amazon Cloud\n",
    "\n",
    "If your computer is struggling with your MCMC calculations, you may want to get your hands on a more powerful computer. Amazon provides a service that allows you to use their computers on demand, and this brief tutorial will help you get your Jupyter Notebooks up and running in their computer cloud. With the setup that we recommend in this tutorial, the cost is around $0.2 per hour of usage.\n",
    "\n",
    "### 1. Create an Amazon Web Services account\n",
    "\n",
    "The first thing to do is create an AWS account by clicking on the link on the upper right corner of this [page](https://aws.amazon.com/). Once you have your account you can go back to it by clicking on *Sign In To Console*, which should now be in the upper right corner of the same site."
   ]
  },
  {
   "cell_type": "markdown",
   "metadata": {},
   "source": [
    "### 2. Set up your Server\n",
    "\n",
    "Now you can select the kind of computer you need. You will be using Amazon's [*Elastic Compute Cloud*](https://aws.amazon.com/ec2/) (EC2) service. To do this, in the menu located in the upper left part of your console, click on *Services* &rightarrow; *EC2*. This is the EC2 dashboard.\n",
    "\n",
    "Within this service, there are two main things that you need to choose, essentialy the software and the hardware. You will do this by creating an *instance*, which you can do by clicking on the *Launch Instance* button under *Create Instance*. \n",
    "\n",
    "For your *Amazon Machine Image*, or your software configuration, select *Amazon Linux AMI (HVM / 64-bit)*.\n",
    "\n",
    "For your *Instance Type*, or hardware configuration, select *c4.xlarge*. This will be around $0.2 per hour of usage. You can see more details about this [here](https://aws.amazon.com/ec2/pricing/on-demand/).\n",
    "\n",
    "On the lower right corner, click on *Next: Configure Instance Details*. Leave the default options, and click on *Next: Add Storage*.\n",
    "\n",
    "Change the size to 30 GiB, volume type should be the default General Purpose SSD (GP2). Click on *Next: Add Tags*. You do not need to change anything here. Click on *Next: Configure Security Group*\n",
    "\n",
    "With the *Create new security group* option checked, click on the *Add Rule* button in the lower part. Fill in as follows:\n",
    "\n",
    "| Type        | Protocol           | Port Range  | Source  |\n",
    "| ------------- |:-------------:| -----:| -----:|\n",
    "| Custom TCP      | TCP | 8888 | Anywhere |\n",
    "\n",
    "This configuration should enable you to connect to your Jupyter Notebooks from any IP address.\n",
    "\n",
    "On the lower right corner, click on *Review and Launch*. Again, on the lower right corner, click on *Launch*. \n",
    "\n",
    "In the popup window, select *Create a new key pair*, name it *bebi103_keypair*, and click on *Download Key Pair*. In your computer, move this file to your bebi103 directory.\n",
    "Finally, click on *Launch Instance*.\n",
    "\n",
    "Your have a server up and running!\n",
    "\n",
    "Click on *View Instances* to see your server details. You will come back to this window later to retrieve your IP address."
   ]
  },
  {
   "cell_type": "markdown",
   "metadata": {},
   "source": [
    "### 3. Connect to your server\n",
    "\n",
    "Now that you have a server, you can connect to it using your computer and the *ssh* protocol. On Mac or Linux, open a terminal window. On Windows, you will need to download and install an ssh client such as [PuTTY](http://www.putty.org). Navigate to your bebi103 directory, where you saved the bebi103_keypair file:\n",
    "\n",
    "```\n",
    "cd path_to_bebi103directory\n",
    "```\n",
    "\n",
    "Change permissions on your key file to make sure that it isn't publicly viewable: \n",
    "\n",
    "```\n",
    "chmod 400 bebi103_keypair.pem.txt\n",
    "```\n",
    "Finally, edit your bash profile to make your computer aware of your keypair:\n",
    "```\n",
    "echo ssh-add -K $PWD/bebi103_keypair.pem.txt >> ~/.bash_profile\n",
    "source ~/.bash_profile\n",
    "```\n",
    "Now you can connect to the server using *ssh*. To find your server, you need its IP address, which you can find using your AWS console in your last opened web browser window (see below); you can also go back to this window by clicking on the left panel of your EC2 dashboard on *Instances*. \n",
    "\n",
    "To get your server's IP address, click on your BeBi103 instance. On the lower part, in upper right of the *Description* tab, you should see *IPv4 Public IP*. Copy this address, it should be something like: ``13.58.35.204``. The IP address will change when you restart your server, so make sure you to retrieve it from here next time you need it.\n",
    "\n",
    "Go back to the terminal and connect to your server using your username (*ec2-user* is the generic name for the software configuration we selected) and your server's current IP address:\n",
    "\n",
    "```\n",
    "ssh ec2-user@Your.IP.Address\n",
    "```\n",
    "\n",
    "Type `yes` if asked to continue connecting. You should get a welcome message with ``Amazon Linux AMI`` on it, and your terminal should now show something like: \n",
    "\n",
    "```\n",
    "[ec2-user@ip-172-31-24-56 ~]$\n",
    "```\n",
    "\n",
    "If this is the case, you are connected to your server! You can type `logout` whenever you want to do so. Anytime you want to connect again, all you need to do is fetch your server's IP address, open a terminal window and type the last command to connect using ssh, since your computer will remember your keypair."
   ]
  },
  {
   "cell_type": "markdown",
   "metadata": {},
   "source": [
    "### 4. Install github, the bebi103 repository, and everything else\n",
    "\n",
    "Enter the following while connected to the server via ssh:\n",
    "\n",
    "```\n",
    "sudo yum -y install git\n",
    "git clone https://github.com/justinbois/bebi103_utils.git\n",
    "```\n",
    "\n",
    "We put together a shell script in the bebi103 repo that will download, install and configure the server for you, including a working python distribution with the packages that you will need. \n",
    "All you need to do is:\n",
    "\n",
    "```\n",
    "bash ~/bebi103_utils/bebi103_AWSconfig.sh\n",
    "```\n",
    "\n",
    "Be patient while everything is downloaded and installed. You will be asked to complete your certificate details, and then to create a password for your jupyter notebooks. You will use this password to login to your notebooks from your web browser, so make sure you remember it.\n",
    "\n",
    "Finally, update your .bashrc file:\n",
    "```\n",
    "source ~/.bashrc\n",
    "```\n",
    "You are all set with the configuration."
   ]
  },
  {
   "cell_type": "markdown",
   "metadata": {},
   "source": [
    "### 5. Access your Jupyter Notebooks from your web browser\n",
    "Your Jupyter Notebooks should now be available through the internet. To access them, you first have to start Jupyter. To keep your notebooks organized, we created three directories for you: *notebooks*, *output* and *data*. Go into your *notebooks* directory and launch a jupyter notebook:\n",
    "```\n",
    "cd ~/notebooks\n",
    "jupyter notebook\n",
    "```\n",
    "With Jupyter running you should be able to see your notebook from your own computer. Open a web browser and  enter the IP address of your server followed by *:8888*, which indicates the port we setup for Jupyter:\n",
    "\n",
    "```\n",
    "https://Your.IP.address:8888\n",
    "```\n",
    "\n",
    "If you see a security warning, bypass it. In Chrome, click on *Advanced* and proceed to your site and type in your password. You should see your usual notebook interface, but all the notebooks you create on this window will be running on Amazon's computers."
   ]
  },
  {
   "cell_type": "markdown",
   "metadata": {},
   "source": [
    "### Managing your server time\n",
    "\n",
    "You will be charged for the time your server is running. For this reason, you should prototype your code on your own machine first, and then run on AWS. Also, when you are not using your server, you can temporarily stop it so that you don't get charged. To do this, go to your *EC2* dashboard and click on *instances* on the left panel. \n",
    "\n",
    "Click on *Actions* (if you have more than one instance, right click on the instance you want to stop). \n",
    "\n",
    "Select *Instance State* &rightarrow; *Stop*. **Do not select terminate**, as this will delete your configuration. \n",
    "\n",
    "When you need to use it again, you can restart it using the same procedure, but instead select *Instance State* &rightarrow; *Start*. You do not need to be connected to the server for it to be running, but you have to have Jupyter running in order to access it. For example, you can connect to the server, start Jupyter, logout from the server, and keep using Jupyter through your web browser.\n",
    "\n",
    "We have added a handy function to *bebi103_utils* that you can use to be notified by email when your calculations are done, so that you can stop the server. We also created a default gmail account that you can use for that. Simply add the following line in your python script, after your calculation code:\n",
    "\n",
    "```\n",
    "bebi103.send_notification('your_email_address', 'MCMCpower')\n",
    "```\n",
    "\n",
    "Replace the first argument with your email address (e.g. john@gmail.com) and leave the second argument as is (it is the password of the default sender account). You will receive an email notifying you once that line is run. "
   ]
  },
  {
   "cell_type": "markdown",
   "metadata": {},
   "source": [
    "### Transfering files to and from your server\n",
    "\n",
    "After your setup, transferring files to and from the server should be easy. With your server's IP address in hand, you can use *SCP* from your computer, without being connected to the server.\n",
    "\n",
    "Open a new terminal window. To transfer files from your computer to your data directory on the server, enter the following:\n",
    "```\n",
    "scp path_to_file ec2-user@Your.IP.Address:/home/ec2-user/notebooks/data/file_name\n",
    "```\n",
    "You can also transfer directories by using the recursive option:\n",
    "```\n",
    "scp -r path_to_directory ec2-user@Your.IP.Address:/home/ec2-user/notebooks/data/directory_name\n",
    "```\n",
    "To transfer a file from the server data directory to your computer, you just invert the arguments. For example, to transfer your whole output directory:\n",
    "```\n",
    "scp -r ec2-user@Your.IP.Address:/home/ec2-user/notebooks/output path_to_directory\n",
    "```"
   ]
  }
 ],
 "metadata": {
  "kernelspec": {
   "display_name": "Python 3",
   "language": "python",
   "name": "python3"
  },
  "language_info": {
   "codemirror_mode": {
    "name": "ipython",
    "version": 3
   },
   "file_extension": ".py",
   "mimetype": "text/x-python",
   "name": "python",
   "nbconvert_exporter": "python",
   "pygments_lexer": "ipython3",
   "version": "3.6.1"
  }
 },
 "nbformat": 4,
 "nbformat_minor": 2
}
